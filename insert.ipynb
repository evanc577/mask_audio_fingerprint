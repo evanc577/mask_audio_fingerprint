{
 "cells": [
  {
   "cell_type": "code",
   "execution_count": 1,
   "metadata": {},
   "outputs": [],
   "source": [
    "from fingerprint import *"
   ]
  },
  {
   "cell_type": "code",
   "execution_count": 2,
   "metadata": {},
   "outputs": [
    {
     "name": "stdout",
     "output_type": "stream",
     "text": [
      "skipping 01 Converse High.mp3\n",
      "skipping 08 I Need U (Remix).mp3\n",
      "skipping 06 Love Is Not Over (Full Length Edition).mp3\n",
      "skipping 06 Run.mp3\n",
      "skipping 05 House Of Cards (Full Length Edition).mp3\n",
      "skipping 11 Butterfly (Alternative Mix).mp3\n",
      "skipping 05 Butterfly (Prologue Mix).mp3\n",
      "skipping 10 Run (Alternative Mix).mp3\n",
      "skipping 03 Hold Me Tight.mp3\n",
      "skipping 02 Moving On.mp3\n",
      "skipping 02 I Need U.mp3\n",
      "skipping 01 Intro _ The Most Beautiful Moment in Life.mp3\n",
      "skipping 07 I Need U (Urban Mix).mp3\n",
      "skipping 09 Dope.mp3\n",
      "skipping 08 Silver Spoon.mp3\n",
      "skipping 04 Autumn Leaves.mp3\n",
      "skipping 11 Save Me.mp3\n",
      "skipping 09 Run (Ballad Mix).mp3\n",
      "skipping 07 Ma City.mp3\n",
      "skipping cover.jpg\n",
      "skipping 04 Butterfly.mp3\n",
      "skipping 10 Fire.mp3\n",
      "skipping 12 Epilogue_ Young Forever.mp3\n",
      "skipping 03 Whalien 52.mp3\n",
      "skipping 02 DNA.m4a\n",
      "skipping 06 Billboard Music Awards Speech [Skit].m4a\n",
      "skipping 07 MIC Drop.m4a\n",
      "skipping 08 Go Go.m4a\n",
      "skipping 03 Best Of Me.m4a\n",
      "skipping 11 Sea.m4a\n",
      "skipping 10 Hesitation and Fear[Skit].m4a\n",
      "skipping 04 Dimple.m4a\n",
      "skipping 09 Outro_ Her.m4a\n",
      "skipping 01 Intro_ Serendipity.m4a\n",
      "skipping cover.jpg\n",
      "skipping 05 Pied Piper.m4a\n",
      "skipping 05 Dimple.m4a\n",
      "skipping 03 Airplane, Pt. 2.m4a\n",
      "skipping 10 The Truth Untold (feat. Steve Aoki).m4a\n",
      "skipping 07 DNA (Pedal 2 LA Mix).m4a\n",
      "skipping 06 Mic Drop.m4a\n",
      "skipping 08 Fake Love (Rocking Vibe Mix).m4a\n",
      "skipping 02 Best of Me.m4a\n",
      "skipping 09 Fake Love.m4a\n",
      "skipping 09 Mic Drop (Steve Aoki Remix) [Full Length Edition].m4a\n",
      "skipping 04 DNA.m4a\n",
      "skipping 07 Her.m4a\n",
      "skipping 05 Anpanman.m4a\n",
      "skipping 13 Epiphany.m4a\n",
      "skipping 04 Go Go.m4a\n",
      "skipping 11 Trivia 轉 _ Seesaw.m4a\n",
      "skipping 06 Trivia 承 _ Love.m4a\n",
      "skipping 10 Idol (feat. Nicki Minaj).m4a\n",
      "skipping 03 Serendipity (Full Length Edition).m4a\n",
      "skipping 01 Euphoria.m4a\n",
      "skipping 01 Magic Shop.m4a\n",
      "skipping cover.jpg\n",
      "skipping 12 Tear.m4a\n",
      "skipping 02 Trivia 起 _ Just Dance.m4a\n",
      "skipping 08 Singularity.m4a\n",
      "skipping 16 Answer _ Love Myself.m4a\n",
      "skipping 14 I'm Fine.m4a\n",
      "skipping 15 Idol.m4a\n",
      "skipping 06 First Love.mp3\n",
      "skipping 08 MAMA.mp3\n",
      "skipping 05 Stigma.mp3\n",
      "skipping 12 Am I Wrong.mp3\n",
      "skipping 18 A Supplementary Story _ You Never Walk Alone.mp3\n",
      "skipping 13 21st Century Girls.mp3\n",
      "skipping 17 Outro_ Wings.mp3\n",
      "skipping 02 Blood Sweat & Tears.mp3\n",
      "skipping 15 Spring Day.mp3\n",
      "skipping 03 Begin.mp3\n",
      "skipping 04 Lie.mp3\n",
      "skipping 01 Intro _ Boy Meets Evil.mp3\n",
      "skipping 14 Two! Three! (Still Wishing There Will Be Better Days).mp3\n",
      "skipping 07 Reflection.mp3\n",
      "skipping 16 Not Today.mp3\n",
      "skipping cover.jpg\n",
      "skipping 10 Lost.mp3\n",
      "skipping 11 BTS Cypher 4.mp3\n",
      "skipping 09 Awake.mp3\n"
     ]
    }
   ],
   "source": [
    "# set path to a file or directory to add it to the database\n",
    "\n",
    "path = './test_songs_2/BTS/'\n",
    "add_song(path)"
   ]
  },
  {
   "cell_type": "code",
   "execution_count": null,
   "metadata": {},
   "outputs": [],
   "source": []
  }
 ],
 "metadata": {
  "kernelspec": {
   "display_name": "ece420",
   "language": "python",
   "name": "ece420"
  },
  "language_info": {
   "codemirror_mode": {
    "name": "ipython",
    "version": 3
   },
   "file_extension": ".py",
   "mimetype": "text/x-python",
   "name": "python",
   "nbconvert_exporter": "python",
   "pygments_lexer": "ipython3",
   "version": "3.7.2"
  }
 },
 "nbformat": 4,
 "nbformat_minor": 2
}
