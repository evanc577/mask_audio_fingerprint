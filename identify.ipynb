{
 "cells": [
  {
   "cell_type": "code",
   "execution_count": 1,
   "metadata": {},
   "outputs": [],
   "source": [
    "import numpy as np\n",
    "from scipy.io.wavfile import read\n",
    "from IPython.display import Audio\n",
    "import matplotlib.pyplot as plt\n",
    "import time\n",
    "\n",
    "from fingerprint import *"
   ]
  },
  {
   "cell_type": "code",
   "execution_count": 6,
   "metadata": {},
   "outputs": [
    {
     "name": "stdout",
     "output_type": "stream",
     "text": [
      "[1.0, 1.0, 1.0, 3.0, 1.0, 1.0, 1.0, 1.0, 1.0, 2.0, 1.0, 1.0, 1.0]\n",
      "5c3733ea22e2f1ef0b138287b576c2e1f7dae4b190ab21280a539c0a6307f350\n",
      "matched song is: ('test_songs/What.wav',)\n",
      "score: 3.0\n",
      "elapsed time: 95 ms\n"
     ]
    }
   ],
   "source": [
    "song_name = 'test_segments/What_noise_seg.wav'\n",
    "fs, data = read(song_name)\n",
    "if (data.ndim != 1):\n",
    "    data = data[:,0]\n",
    "    \n",
    "start_t = time.time()\n",
    "\n",
    "matches = fingerprint(data, fs, query=True)\n",
    "\n",
    "for m in matches:\n",
    "    break\n",
    "    plt.figure()\n",
    "    plt.scatter(matches[m][0], matches[m][1])\n",
    "    plt.title('reference id = {}'.format(m[:16]))\n",
    "    plt.show()\n",
    "\n",
    "candidates = []\n",
    "scores = []\n",
    "for m in matches:\n",
    "    dts = []\n",
    "    for i in range(len(matches[m][0])):\n",
    "        dt = matches[m][0][i] - matches[m][1][i]\n",
    "        if dt < 0:\n",
    "            continue\n",
    "        dts.append(dt)\n",
    "            \n",
    "    max_dt = np.max(dts) + 1\n",
    "    hist = np.zeros(max_dt)\n",
    "    for dt in dts:\n",
    "        hist[dt] += 1\n",
    "        \n",
    "    candidates.append(m)\n",
    "    scores.append(np.max(hist))\n",
    "        \n",
    "    continue\n",
    "    plt.figure()\n",
    "    plt.plot(hist)\n",
    "    plt.title('reference id = {}'.format(m[:16]))\n",
    "    plt.show()\n",
    "    \n",
    "    \n",
    "\n",
    "\n",
    "\n",
    "print(scores)\n",
    "print(candidates[np.argmax(scores)])\n",
    "\n",
    "max_idx = np.argmax(scores)\n",
    "\n",
    "conn = sqlite3.connect('mask.db')\n",
    "c = conn.cursor()\n",
    "prep = (candidates[max_idx],)\n",
    "c.execute('SELECT name FROM songs WHERE id=?', prep)\n",
    "print('matched song is: {}'.format(c.fetchone()))\n",
    "print('score: {}'.format(scores[max_idx]))\n",
    "conn.close()\n",
    "\n",
    "end_t = time.time()\n",
    "print('elapsed time: {:d} ms'.format(int((end_t - start_t)*1000)))"
   ]
  },
  {
   "cell_type": "code",
   "execution_count": null,
   "metadata": {},
   "outputs": [],
   "source": []
  }
 ],
 "metadata": {
  "kernelspec": {
   "display_name": "ece420",
   "language": "python",
   "name": "ece420"
  },
  "language_info": {
   "codemirror_mode": {
    "name": "ipython",
    "version": 3
   },
   "file_extension": ".py",
   "mimetype": "text/x-python",
   "name": "python",
   "nbconvert_exporter": "python",
   "pygments_lexer": "ipython3",
   "version": "3.7.2"
  }
 },
 "nbformat": 4,
 "nbformat_minor": 2
}
