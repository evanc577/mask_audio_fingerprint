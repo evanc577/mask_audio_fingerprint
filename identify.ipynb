{
 "cells": [
  {
   "cell_type": "code",
   "execution_count": 1,
   "metadata": {},
   "outputs": [],
   "source": [
    "from fingerprint import test"
   ]
  },
  {
   "cell_type": "code",
   "execution_count": 69,
   "metadata": {},
   "outputs": [
    {
     "name": "stdout",
     "output_type": "stream",
     "text": [
      "Recording mic for 5 seconds...\n",
      "ok\n",
      "id:           6784fbfc292fd2edf44cccc95ff944e9411450198bb85fc56b074bb4d881adac\n",
      "path:         b'/home/evan/ece420/assigned_lab/test_songs_2/Dreamcatcher/Nightmare/02 Chase Me.mp3'\n",
      "score:        45\n",
      "elapsed time: 3.419s\n"
     ]
    }
   ],
   "source": [
    "# set mic=True and secs to record from microphone\n",
    "# set mic=False and set path to analyze local file\n",
    "\n",
    "test(mic=True, secs=5, path='test_segments/What_seg.wav')"
   ]
  },
  {
   "cell_type": "code",
   "execution_count": null,
   "metadata": {},
   "outputs": [],
   "source": []
  }
 ],
 "metadata": {
  "kernelspec": {
   "display_name": "ece420",
   "language": "python",
   "name": "ece420"
  },
  "language_info": {
   "codemirror_mode": {
    "name": "ipython",
    "version": 3
   },
   "file_extension": ".py",
   "mimetype": "text/x-python",
   "name": "python",
   "nbconvert_exporter": "python",
   "pygments_lexer": "ipython3",
   "version": "3.7.2"
  }
 },
 "nbformat": 4,
 "nbformat_minor": 2
}
